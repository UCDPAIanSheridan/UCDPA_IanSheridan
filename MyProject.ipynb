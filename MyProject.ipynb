{
 "cells": [
  {
   "cell_type": "code",
   "execution_count": 1,
   "metadata": {},
   "outputs": [],
   "source": [
    "import pandas as pd\n",
    "import seaborn as sns\n",
    "import numpy as np\n",
    "from matplotlib import pyplot as plt"
   ]
  },
  {
   "cell_type": "code",
   "execution_count": 8,
   "metadata": {},
   "outputs": [
    {
     "data": {
      "text/plain": [
       "<bound method DataFrame.info of       iD MATCH     SAISON COMPETITION                  BLOC SEMAINE  \\\n",
       "0          475  2020-2021      PRO D2       BLOC 5 - DENALI     S32   \n",
       "1          475  2020-2021      PRO D2       BLOC 5 - DENALI     S32   \n",
       "2          475  2020-2021      PRO D2       BLOC 5 - DENALI     S32   \n",
       "3          475  2020-2021      PRO D2       BLOC 5 - DENALI     S32   \n",
       "4          475  2020-2021      PRO D2       BLOC 5 - DENALI     S32   \n",
       "...        ...        ...         ...                   ...     ...   \n",
       "4400       354  2020-2021      PRO D2  BLOC 1 - PUNCAK JAYA     S12   \n",
       "4401       354  2020-2021      PRO D2  BLOC 1 - PUNCAK JAYA     S12   \n",
       "4402       354  2020-2021      PRO D2  BLOC 1 - PUNCAK JAYA     S12   \n",
       "4403       354  2020-2021      PRO D2  BLOC 1 - PUNCAK JAYA     S12   \n",
       "4404       354  2020-2021      PRO D2  BLOC 1 - PUNCAK JAYA     S12   \n",
       "\n",
       "            DATE JOURNEE DOMICILE EXTERIEUR           MATCH      Start time  \\\n",
       "0     12/02/2021     J19     USAP       USC  J19 USAP - USC  5828,883019968   \n",
       "1     12/02/2021     J19     USAP       USC  J19 USAP - USC  1224,163019968   \n",
       "2     12/02/2021     J19     USAP       USC  J19 USAP - USC  6230,363019968   \n",
       "3     12/02/2021     J19     USAP       USC  J19 USAP - USC   603,283019968   \n",
       "4     12/02/2021     J19     USAP       USC  J19 USAP - USC  5915,563019968   \n",
       "...          ...     ...      ...       ...             ...             ...   \n",
       "4400  25/09/2020     J04      OYO       AIX   J04 OYO - AIX          1098,6   \n",
       "4401  25/09/2020     J04      OYO       AIX   J04 OYO - AIX         2656,68   \n",
       "4402  25/09/2020     J04      OYO       AIX   J04 OYO - AIX         4318,36   \n",
       "4403  25/09/2020     J04      OYO       AIX   J04 OYO - AIX         5207,28   \n",
       "4404  25/09/2020     J04      OYO       AIX   J04 OYO - AIX         6659,44   \n",
       "\n",
       "                        JOUEUR                 POSTE EQUIPE   ADV  \\\n",
       "0              Quentin Etienne               ARRIERE   USAP   USC   \n",
       "1               Julien Facundo                PILIER    USC  USAP   \n",
       "2     Christiaan van der Merwe         SECONDE LIGNE    USC  USAP   \n",
       "3               Rynard Landman         SECONDE LIGNE    USC  USAP   \n",
       "4                 Darrell Dyer  TROISIEME LIGNE AILE    USC  USAP   \n",
       "...                        ...                   ...    ...   ...   \n",
       "4400                Tony Ensor               ARRIERE    OYO   AIX   \n",
       "4401                Tony Ensor               ARRIERE    OYO   AIX   \n",
       "4402                Tony Ensor               ARRIERE    OYO   AIX   \n",
       "4403                Tony Ensor               ARRIERE    OYO   AIX   \n",
       "4404             Frans van Wyk                PILIER    OYO   AIX   \n",
       "\n",
       "      TYPE TURNOVER CONCEDE Field Area Field L-R  PORTEUR -  \n",
       "0     Dropped Ball Unforced    22 - 50         L        NaN  \n",
       "1     Dropped Ball Unforced    50 - 22         R        NaN  \n",
       "2        Carried Into Touch    22 - GL         R        NaN  \n",
       "3     Dropped Ball Unforced    50 - 22        CL        NaN  \n",
       "4     Dropped Ball Unforced    22 - 50         C        NaN  \n",
       "...                     ...        ...       ...        ...  \n",
       "4400    Dropped Ball Forced    50 - 22        CL        NaN  \n",
       "4401  Dropped Ball Unforced    22 - 50        CR        NaN  \n",
       "4402  Dropped Ball Unforced    22 - 50         R        NaN  \n",
       "4403  Dropped Ball Unforced    50 - 22         C        NaN  \n",
       "4404      Lost at Breakdown    22 - 50        CR        NaN  \n",
       "\n",
       "[4405 rows x 19 columns]>"
      ]
     },
     "execution_count": 8,
     "metadata": {},
     "output_type": "execute_result"
    }
   ],
   "source": [
    "turnovers = pd.read_csv('/Users/iansheridan/Desktop/UCD/Turnovers1.csv')\n",
    "turnovers.head\n",
    "turnovers.info"
   ]
  },
  {
   "cell_type": "code",
   "execution_count": 36,
   "metadata": {},
   "outputs": [
    {
     "data": {
      "text/html": [
       "<div>\n",
       "<style scoped>\n",
       "    .dataframe tbody tr th:only-of-type {\n",
       "        vertical-align: middle;\n",
       "    }\n",
       "\n",
       "    .dataframe tbody tr th {\n",
       "        vertical-align: top;\n",
       "    }\n",
       "\n",
       "    .dataframe thead th {\n",
       "        text-align: right;\n",
       "    }\n",
       "</style>\n",
       "<table border=\"1\" class=\"dataframe\">\n",
       "  <thead>\n",
       "    <tr style=\"text-align: right;\">\n",
       "      <th></th>\n",
       "      <th>DOMICILE</th>\n",
       "      <th>EXTERIEUR</th>\n",
       "      <th>MATCH</th>\n",
       "      <th>JOUEUR</th>\n",
       "      <th>POSTE</th>\n",
       "      <th>EQUIPE</th>\n",
       "      <th>ADV</th>\n",
       "      <th>TYPE TURNOVER CONCEDE</th>\n",
       "      <th>Field Area</th>\n",
       "      <th>Field L-R</th>\n",
       "    </tr>\n",
       "    <tr>\n",
       "      <th>iD MATCH</th>\n",
       "      <th></th>\n",
       "      <th></th>\n",
       "      <th></th>\n",
       "      <th></th>\n",
       "      <th></th>\n",
       "      <th></th>\n",
       "      <th></th>\n",
       "      <th></th>\n",
       "      <th></th>\n",
       "      <th></th>\n",
       "    </tr>\n",
       "  </thead>\n",
       "  <tbody>\n",
       "    <tr>\n",
       "      <th>475</th>\n",
       "      <td>USAP</td>\n",
       "      <td>USC</td>\n",
       "      <td>J19 USAP - USC</td>\n",
       "      <td>Quentin Etienne</td>\n",
       "      <td>ARRIERE</td>\n",
       "      <td>USAP</td>\n",
       "      <td>USC</td>\n",
       "      <td>Dropped Ball Unforced</td>\n",
       "      <td>22 - 50</td>\n",
       "      <td>L</td>\n",
       "    </tr>\n",
       "    <tr>\n",
       "      <th>475</th>\n",
       "      <td>USAP</td>\n",
       "      <td>USC</td>\n",
       "      <td>J19 USAP - USC</td>\n",
       "      <td>Julien Facundo</td>\n",
       "      <td>PILIER</td>\n",
       "      <td>USC</td>\n",
       "      <td>USAP</td>\n",
       "      <td>Dropped Ball Unforced</td>\n",
       "      <td>50 - 22</td>\n",
       "      <td>R</td>\n",
       "    </tr>\n",
       "    <tr>\n",
       "      <th>475</th>\n",
       "      <td>USAP</td>\n",
       "      <td>USC</td>\n",
       "      <td>J19 USAP - USC</td>\n",
       "      <td>Christiaan van der Merwe</td>\n",
       "      <td>SECONDE LIGNE</td>\n",
       "      <td>USC</td>\n",
       "      <td>USAP</td>\n",
       "      <td>Carried Into Touch</td>\n",
       "      <td>22 - GL</td>\n",
       "      <td>R</td>\n",
       "    </tr>\n",
       "    <tr>\n",
       "      <th>475</th>\n",
       "      <td>USAP</td>\n",
       "      <td>USC</td>\n",
       "      <td>J19 USAP - USC</td>\n",
       "      <td>Rynard Landman</td>\n",
       "      <td>SECONDE LIGNE</td>\n",
       "      <td>USC</td>\n",
       "      <td>USAP</td>\n",
       "      <td>Dropped Ball Unforced</td>\n",
       "      <td>50 - 22</td>\n",
       "      <td>CL</td>\n",
       "    </tr>\n",
       "    <tr>\n",
       "      <th>475</th>\n",
       "      <td>USAP</td>\n",
       "      <td>USC</td>\n",
       "      <td>J19 USAP - USC</td>\n",
       "      <td>Darrell Dyer</td>\n",
       "      <td>TROISIEME LIGNE AILE</td>\n",
       "      <td>USC</td>\n",
       "      <td>USAP</td>\n",
       "      <td>Dropped Ball Unforced</td>\n",
       "      <td>22 - 50</td>\n",
       "      <td>C</td>\n",
       "    </tr>\n",
       "  </tbody>\n",
       "</table>\n",
       "</div>"
      ],
      "text/plain": [
       "         DOMICILE EXTERIEUR           MATCH                    JOUEUR  \\\n",
       "iD MATCH                                                                \n",
       "475          USAP       USC  J19 USAP - USC           Quentin Etienne   \n",
       "475          USAP       USC  J19 USAP - USC            Julien Facundo   \n",
       "475          USAP       USC  J19 USAP - USC  Christiaan van der Merwe   \n",
       "475          USAP       USC  J19 USAP - USC            Rynard Landman   \n",
       "475          USAP       USC  J19 USAP - USC              Darrell Dyer   \n",
       "\n",
       "                         POSTE EQUIPE   ADV  TYPE TURNOVER CONCEDE Field Area  \\\n",
       "iD MATCH                                                                        \n",
       "475                    ARRIERE   USAP   USC  Dropped Ball Unforced    22 - 50   \n",
       "475                     PILIER    USC  USAP  Dropped Ball Unforced    50 - 22   \n",
       "475              SECONDE LIGNE    USC  USAP     Carried Into Touch    22 - GL   \n",
       "475              SECONDE LIGNE    USC  USAP  Dropped Ball Unforced    50 - 22   \n",
       "475       TROISIEME LIGNE AILE    USC  USAP  Dropped Ball Unforced    22 - 50   \n",
       "\n",
       "         Field L-R  \n",
       "iD MATCH            \n",
       "475              L  \n",
       "475              R  \n",
       "475              R  \n",
       "475             CL  \n",
       "475              C  "
      ]
     },
     "execution_count": 36,
     "metadata": {},
     "output_type": "execute_result"
    }
   ],
   "source": [
    "turnovers = turnovers.set_index('iD MATCH')\n",
    "turnovers.head()"
   ]
  },
  {
   "cell_type": "code",
   "execution_count": 40,
   "metadata": {},
   "outputs": [
    {
     "data": {
      "text/plain": [
       "DOMICILE                 0.227015\n",
       "EXTERIEUR                0.068104\n",
       "MATCH                    0.000000\n",
       "JOUEUR                   0.317821\n",
       "POSTE                    1.248581\n",
       "EQUIPE                   0.045403\n",
       "ADV                      0.000000\n",
       "TYPE TURNOVER CONCEDE    0.249716\n",
       "Field Area               0.090806\n",
       "Field L-R                0.000000\n",
       "dtype: float64"
      ]
     },
     "execution_count": 40,
     "metadata": {},
     "output_type": "execute_result"
    }
   ],
   "source": [
    "turnovers.isnull().sum()/len(turnovers)*100"
   ]
  },
  {
   "cell_type": "code",
   "execution_count": null,
   "metadata": {},
   "outputs": [],
   "source": []
  },
  {
   "cell_type": "code",
   "execution_count": null,
   "metadata": {},
   "outputs": [],
   "source": []
  },
  {
   "cell_type": "code",
   "execution_count": null,
   "metadata": {},
   "outputs": [],
   "source": []
  },
  {
   "cell_type": "code",
   "execution_count": 22,
   "metadata": {},
   "outputs": [
    {
     "data": {
      "text/html": [
       "<div>\n",
       "<style scoped>\n",
       "    .dataframe tbody tr th:only-of-type {\n",
       "        vertical-align: middle;\n",
       "    }\n",
       "\n",
       "    .dataframe tbody tr th {\n",
       "        vertical-align: top;\n",
       "    }\n",
       "\n",
       "    .dataframe thead th {\n",
       "        text-align: right;\n",
       "    }\n",
       "</style>\n",
       "<table border=\"1\" class=\"dataframe\">\n",
       "  <thead>\n",
       "    <tr style=\"text-align: right;\">\n",
       "      <th></th>\n",
       "      <th>iD MATCH</th>\n",
       "      <th>PORTEUR -</th>\n",
       "    </tr>\n",
       "  </thead>\n",
       "  <tbody>\n",
       "    <tr>\n",
       "      <th>count</th>\n",
       "      <td>4405.000000</td>\n",
       "      <td>0.0</td>\n",
       "    </tr>\n",
       "    <tr>\n",
       "      <th>mean</th>\n",
       "      <td>417.091033</td>\n",
       "      <td>NaN</td>\n",
       "    </tr>\n",
       "    <tr>\n",
       "      <th>std</th>\n",
       "      <td>53.025649</td>\n",
       "      <td>NaN</td>\n",
       "    </tr>\n",
       "    <tr>\n",
       "      <th>min</th>\n",
       "      <td>325.000000</td>\n",
       "      <td>NaN</td>\n",
       "    </tr>\n",
       "    <tr>\n",
       "      <th>25%</th>\n",
       "      <td>372.000000</td>\n",
       "      <td>NaN</td>\n",
       "    </tr>\n",
       "    <tr>\n",
       "      <th>50%</th>\n",
       "      <td>416.000000</td>\n",
       "      <td>NaN</td>\n",
       "    </tr>\n",
       "    <tr>\n",
       "      <th>75%</th>\n",
       "      <td>464.000000</td>\n",
       "      <td>NaN</td>\n",
       "    </tr>\n",
       "    <tr>\n",
       "      <th>max</th>\n",
       "      <td>508.000000</td>\n",
       "      <td>NaN</td>\n",
       "    </tr>\n",
       "  </tbody>\n",
       "</table>\n",
       "</div>"
      ],
      "text/plain": [
       "          iD MATCH  PORTEUR -\n",
       "count  4405.000000        0.0\n",
       "mean    417.091033        NaN\n",
       "std      53.025649        NaN\n",
       "min     325.000000        NaN\n",
       "25%     372.000000        NaN\n",
       "50%     416.000000        NaN\n",
       "75%     464.000000        NaN\n",
       "max     508.000000        NaN"
      ]
     },
     "execution_count": 22,
     "metadata": {},
     "output_type": "execute_result"
    }
   ],
   "source": [
    "turnovers.describe()"
   ]
  },
  {
   "cell_type": "code",
   "execution_count": 24,
   "metadata": {},
   "outputs": [
    {
     "data": {
      "text/plain": [
       "iD MATCH                   int64\n",
       "SAISON                    object\n",
       "COMPETITION               object\n",
       "BLOC                      object\n",
       "SEMAINE                   object\n",
       "DATE                      object\n",
       "JOURNEE                   object\n",
       "DOMICILE                  object\n",
       "EXTERIEUR                 object\n",
       "MATCH                     object\n",
       "Start time                object\n",
       "JOUEUR                    object\n",
       "POSTE                     object\n",
       "EQUIPE                    object\n",
       "ADV                       object\n",
       "TYPE TURNOVER CONCEDE     object\n",
       "Field Area                object\n",
       "Field L-R                 object\n",
       "PORTEUR -                float64\n",
       "dtype: object"
      ]
     },
     "execution_count": 24,
     "metadata": {},
     "output_type": "execute_result"
    }
   ],
   "source": [
    "turnovers.dtypes"
   ]
  },
  {
   "cell_type": "code",
   "execution_count": 46,
   "metadata": {},
   "outputs": [
    {
     "data": {
      "text/plain": [
       "<bound method NDFrame.head of          DOMICILE EXTERIEUR           MATCH                    JOUEUR  \\\n",
       "iD MATCH                                                                \n",
       "475          USAP       USC  J19 USAP - USC           Quentin Etienne   \n",
       "475          USAP       USC  J19 USAP - USC            Julien Facundo   \n",
       "475          USAP       USC  J19 USAP - USC  Christiaan van der Merwe   \n",
       "475          USAP       USC  J19 USAP - USC            Rynard Landman   \n",
       "475          USAP       USC  J19 USAP - USC              Darrell Dyer   \n",
       "...           ...       ...             ...                       ...   \n",
       "354           OYO       AIX   J04 OYO - AIX                Tony Ensor   \n",
       "354           OYO       AIX   J04 OYO - AIX                Tony Ensor   \n",
       "354           OYO       AIX   J04 OYO - AIX                Tony Ensor   \n",
       "354           OYO       AIX   J04 OYO - AIX                Tony Ensor   \n",
       "354           OYO       AIX   J04 OYO - AIX             Frans van Wyk   \n",
       "\n",
       "                         POSTE EQUIPE   ADV  TYPE TURNOVER CONCEDE Field Area  \\\n",
       "iD MATCH                                                                        \n",
       "475                    ARRIERE   USAP   USC  Dropped Ball Unforced    22 - 50   \n",
       "475                     PILIER    USC  USAP  Dropped Ball Unforced    50 - 22   \n",
       "475              SECONDE LIGNE    USC  USAP     Carried Into Touch    22 - GL   \n",
       "475              SECONDE LIGNE    USC  USAP  Dropped Ball Unforced    50 - 22   \n",
       "475       TROISIEME LIGNE AILE    USC  USAP  Dropped Ball Unforced    22 - 50   \n",
       "...                        ...    ...   ...                    ...        ...   \n",
       "354                    ARRIERE    OYO   AIX    Dropped Ball Forced    50 - 22   \n",
       "354                    ARRIERE    OYO   AIX  Dropped Ball Unforced    22 - 50   \n",
       "354                    ARRIERE    OYO   AIX  Dropped Ball Unforced    22 - 50   \n",
       "354                    ARRIERE    OYO   AIX  Dropped Ball Unforced    50 - 22   \n",
       "354                     PILIER    OYO   AIX      Lost at Breakdown    22 - 50   \n",
       "\n",
       "         Field L-R  \n",
       "iD MATCH            \n",
       "475              L  \n",
       "475              R  \n",
       "475              R  \n",
       "475             CL  \n",
       "475              C  \n",
       "...            ...  \n",
       "354             CL  \n",
       "354             CR  \n",
       "354              R  \n",
       "354              C  \n",
       "354             CR  \n",
       "\n",
       "[4405 rows x 10 columns]>"
      ]
     },
     "execution_count": 46,
     "metadata": {},
     "output_type": "execute_result"
    }
   ],
   "source": [
    "turnovers.head"
   ]
  },
  {
   "cell_type": "code",
   "execution_count": null,
   "metadata": {},
   "outputs": [],
   "source": []
  },
  {
   "cell_type": "code",
   "execution_count": null,
   "metadata": {},
   "outputs": [],
   "source": []
  },
  {
   "cell_type": "code",
   "execution_count": null,
   "metadata": {},
   "outputs": [],
   "source": []
  },
  {
   "cell_type": "code",
   "execution_count": null,
   "metadata": {},
   "outputs": [],
   "source": []
  },
  {
   "cell_type": "code",
   "execution_count": null,
   "metadata": {},
   "outputs": [],
   "source": []
  },
  {
   "cell_type": "code",
   "execution_count": null,
   "metadata": {},
   "outputs": [],
   "source": []
  },
  {
   "cell_type": "code",
   "execution_count": null,
   "metadata": {},
   "outputs": [],
   "source": []
  },
  {
   "cell_type": "code",
   "execution_count": null,
   "metadata": {},
   "outputs": [],
   "source": []
  },
  {
   "cell_type": "code",
   "execution_count": null,
   "metadata": {},
   "outputs": [],
   "source": []
  },
  {
   "cell_type": "code",
   "execution_count": null,
   "metadata": {},
   "outputs": [],
   "source": []
  },
  {
   "cell_type": "code",
   "execution_count": null,
   "metadata": {},
   "outputs": [],
   "source": []
  },
  {
   "cell_type": "code",
   "execution_count": null,
   "metadata": {},
   "outputs": [],
   "source": []
  },
  {
   "cell_type": "code",
   "execution_count": null,
   "metadata": {},
   "outputs": [],
   "source": []
  },
  {
   "cell_type": "code",
   "execution_count": null,
   "metadata": {},
   "outputs": [],
   "source": []
  },
  {
   "cell_type": "code",
   "execution_count": null,
   "metadata": {},
   "outputs": [],
   "source": []
  },
  {
   "cell_type": "code",
   "execution_count": null,
   "metadata": {},
   "outputs": [],
   "source": []
  },
  {
   "cell_type": "code",
   "execution_count": null,
   "metadata": {},
   "outputs": [],
   "source": []
  },
  {
   "cell_type": "code",
   "execution_count": null,
   "metadata": {},
   "outputs": [],
   "source": []
  },
  {
   "cell_type": "code",
   "execution_count": null,
   "metadata": {},
   "outputs": [],
   "source": []
  },
  {
   "cell_type": "code",
   "execution_count": null,
   "metadata": {},
   "outputs": [],
   "source": []
  },
  {
   "cell_type": "code",
   "execution_count": null,
   "metadata": {},
   "outputs": [],
   "source": []
  },
  {
   "cell_type": "code",
   "execution_count": null,
   "metadata": {},
   "outputs": [],
   "source": []
  },
  {
   "cell_type": "code",
   "execution_count": null,
   "metadata": {},
   "outputs": [],
   "source": []
  },
  {
   "cell_type": "code",
   "execution_count": null,
   "metadata": {},
   "outputs": [],
   "source": []
  },
  {
   "cell_type": "code",
   "execution_count": null,
   "metadata": {},
   "outputs": [],
   "source": []
  },
  {
   "cell_type": "code",
   "execution_count": null,
   "metadata": {},
   "outputs": [],
   "source": []
  },
  {
   "cell_type": "code",
   "execution_count": null,
   "metadata": {},
   "outputs": [],
   "source": []
  },
  {
   "cell_type": "code",
   "execution_count": null,
   "metadata": {},
   "outputs": [],
   "source": []
  },
  {
   "cell_type": "code",
   "execution_count": null,
   "metadata": {},
   "outputs": [],
   "source": []
  }
 ],
 "metadata": {
  "kernelspec": {
   "display_name": "Python 3",
   "language": "python",
   "name": "python3"
  },
  "language_info": {
   "codemirror_mode": {
    "name": "ipython",
    "version": 3
   },
   "file_extension": ".py",
   "mimetype": "text/x-python",
   "name": "python",
   "nbconvert_exporter": "python",
   "pygments_lexer": "ipython3",
   "version": "3.8.5"
  }
 },
 "nbformat": 4,
 "nbformat_minor": 4
}
