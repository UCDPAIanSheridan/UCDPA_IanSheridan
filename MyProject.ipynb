{
 "cells": [
  {
   "cell_type": "code",
   "execution_count": 1,
   "metadata": {},
   "outputs": [],
   "source": [
    "import pandas as pd\n",
    "import seaborn as sns\n",
    "import numpy as np\n",
    "from matplotlib import pyplot as plt"
   ]
  },
  {
   "cell_type": "code",
   "execution_count": 2,
   "metadata": {},
   "outputs": [
    {
     "data": {
      "text/html": [
       "<div>\n",
       "<style scoped>\n",
       "    .dataframe tbody tr th:only-of-type {\n",
       "        vertical-align: middle;\n",
       "    }\n",
       "\n",
       "    .dataframe tbody tr th {\n",
       "        vertical-align: top;\n",
       "    }\n",
       "\n",
       "    .dataframe thead th {\n",
       "        text-align: right;\n",
       "    }\n",
       "</style>\n",
       "<table border=\"1\" class=\"dataframe\">\n",
       "  <thead>\n",
       "    <tr style=\"text-align: right;\">\n",
       "      <th></th>\n",
       "      <th>iD MATCH</th>\n",
       "      <th>SAISON</th>\n",
       "      <th>COMPETITION</th>\n",
       "      <th>BLOC</th>\n",
       "      <th>SEMAINE</th>\n",
       "      <th>DATE</th>\n",
       "      <th>JOURNEE</th>\n",
       "      <th>DOMICILE</th>\n",
       "      <th>EXTERIEUR</th>\n",
       "      <th>MATCH</th>\n",
       "      <th>Start time</th>\n",
       "      <th>JOUEUR</th>\n",
       "      <th>POSTE</th>\n",
       "      <th>EQUIPE</th>\n",
       "      <th>ADV</th>\n",
       "      <th>TYPE TURNOVER CONCEDE</th>\n",
       "      <th>Field Area</th>\n",
       "      <th>Field L-R</th>\n",
       "      <th>PORTEUR -</th>\n",
       "    </tr>\n",
       "  </thead>\n",
       "  <tbody>\n",
       "    <tr>\n",
       "      <th>0</th>\n",
       "      <td>475</td>\n",
       "      <td>2020-2021</td>\n",
       "      <td>PRO D2</td>\n",
       "      <td>BLOC 5 - DENALI</td>\n",
       "      <td>S32</td>\n",
       "      <td>12/02/2021</td>\n",
       "      <td>J19</td>\n",
       "      <td>USAP</td>\n",
       "      <td>USC</td>\n",
       "      <td>J19 USAP - USC</td>\n",
       "      <td>5828,883019968</td>\n",
       "      <td>Quentin Etienne</td>\n",
       "      <td>ARRIERE</td>\n",
       "      <td>USAP</td>\n",
       "      <td>USC</td>\n",
       "      <td>Dropped Ball Unforced</td>\n",
       "      <td>22 - 50</td>\n",
       "      <td>L</td>\n",
       "      <td>NaN</td>\n",
       "    </tr>\n",
       "    <tr>\n",
       "      <th>1</th>\n",
       "      <td>475</td>\n",
       "      <td>2020-2021</td>\n",
       "      <td>PRO D2</td>\n",
       "      <td>BLOC 5 - DENALI</td>\n",
       "      <td>S32</td>\n",
       "      <td>12/02/2021</td>\n",
       "      <td>J19</td>\n",
       "      <td>USAP</td>\n",
       "      <td>USC</td>\n",
       "      <td>J19 USAP - USC</td>\n",
       "      <td>1224,163019968</td>\n",
       "      <td>Julien Facundo</td>\n",
       "      <td>PILIER</td>\n",
       "      <td>USC</td>\n",
       "      <td>USAP</td>\n",
       "      <td>Dropped Ball Unforced</td>\n",
       "      <td>50 - 22</td>\n",
       "      <td>R</td>\n",
       "      <td>NaN</td>\n",
       "    </tr>\n",
       "    <tr>\n",
       "      <th>2</th>\n",
       "      <td>475</td>\n",
       "      <td>2020-2021</td>\n",
       "      <td>PRO D2</td>\n",
       "      <td>BLOC 5 - DENALI</td>\n",
       "      <td>S32</td>\n",
       "      <td>12/02/2021</td>\n",
       "      <td>J19</td>\n",
       "      <td>USAP</td>\n",
       "      <td>USC</td>\n",
       "      <td>J19 USAP - USC</td>\n",
       "      <td>6230,363019968</td>\n",
       "      <td>Christiaan van der Merwe</td>\n",
       "      <td>SECONDE LIGNE</td>\n",
       "      <td>USC</td>\n",
       "      <td>USAP</td>\n",
       "      <td>Carried Into Touch</td>\n",
       "      <td>22 - GL</td>\n",
       "      <td>R</td>\n",
       "      <td>NaN</td>\n",
       "    </tr>\n",
       "    <tr>\n",
       "      <th>3</th>\n",
       "      <td>475</td>\n",
       "      <td>2020-2021</td>\n",
       "      <td>PRO D2</td>\n",
       "      <td>BLOC 5 - DENALI</td>\n",
       "      <td>S32</td>\n",
       "      <td>12/02/2021</td>\n",
       "      <td>J19</td>\n",
       "      <td>USAP</td>\n",
       "      <td>USC</td>\n",
       "      <td>J19 USAP - USC</td>\n",
       "      <td>603,283019968</td>\n",
       "      <td>Rynard Landman</td>\n",
       "      <td>SECONDE LIGNE</td>\n",
       "      <td>USC</td>\n",
       "      <td>USAP</td>\n",
       "      <td>Dropped Ball Unforced</td>\n",
       "      <td>50 - 22</td>\n",
       "      <td>CL</td>\n",
       "      <td>NaN</td>\n",
       "    </tr>\n",
       "    <tr>\n",
       "      <th>4</th>\n",
       "      <td>475</td>\n",
       "      <td>2020-2021</td>\n",
       "      <td>PRO D2</td>\n",
       "      <td>BLOC 5 - DENALI</td>\n",
       "      <td>S32</td>\n",
       "      <td>12/02/2021</td>\n",
       "      <td>J19</td>\n",
       "      <td>USAP</td>\n",
       "      <td>USC</td>\n",
       "      <td>J19 USAP - USC</td>\n",
       "      <td>5915,563019968</td>\n",
       "      <td>Darrell Dyer</td>\n",
       "      <td>TROISIEME LIGNE AILE</td>\n",
       "      <td>USC</td>\n",
       "      <td>USAP</td>\n",
       "      <td>Dropped Ball Unforced</td>\n",
       "      <td>22 - 50</td>\n",
       "      <td>C</td>\n",
       "      <td>NaN</td>\n",
       "    </tr>\n",
       "  </tbody>\n",
       "</table>\n",
       "</div>"
      ],
      "text/plain": [
       "   iD MATCH     SAISON COMPETITION             BLOC SEMAINE        DATE  \\\n",
       "0       475  2020-2021      PRO D2  BLOC 5 - DENALI     S32  12/02/2021   \n",
       "1       475  2020-2021      PRO D2  BLOC 5 - DENALI     S32  12/02/2021   \n",
       "2       475  2020-2021      PRO D2  BLOC 5 - DENALI     S32  12/02/2021   \n",
       "3       475  2020-2021      PRO D2  BLOC 5 - DENALI     S32  12/02/2021   \n",
       "4       475  2020-2021      PRO D2  BLOC 5 - DENALI     S32  12/02/2021   \n",
       "\n",
       "  JOURNEE DOMICILE EXTERIEUR           MATCH      Start time  \\\n",
       "0     J19     USAP       USC  J19 USAP - USC  5828,883019968   \n",
       "1     J19     USAP       USC  J19 USAP - USC  1224,163019968   \n",
       "2     J19     USAP       USC  J19 USAP - USC  6230,363019968   \n",
       "3     J19     USAP       USC  J19 USAP - USC   603,283019968   \n",
       "4     J19     USAP       USC  J19 USAP - USC  5915,563019968   \n",
       "\n",
       "                     JOUEUR                 POSTE EQUIPE   ADV  \\\n",
       "0           Quentin Etienne               ARRIERE   USAP   USC   \n",
       "1            Julien Facundo                PILIER    USC  USAP   \n",
       "2  Christiaan van der Merwe         SECONDE LIGNE    USC  USAP   \n",
       "3            Rynard Landman         SECONDE LIGNE    USC  USAP   \n",
       "4              Darrell Dyer  TROISIEME LIGNE AILE    USC  USAP   \n",
       "\n",
       "   TYPE TURNOVER CONCEDE Field Area Field L-R  PORTEUR -  \n",
       "0  Dropped Ball Unforced    22 - 50         L        NaN  \n",
       "1  Dropped Ball Unforced    50 - 22         R        NaN  \n",
       "2     Carried Into Touch    22 - GL         R        NaN  \n",
       "3  Dropped Ball Unforced    50 - 22        CL        NaN  \n",
       "4  Dropped Ball Unforced    22 - 50         C        NaN  "
      ]
     },
     "execution_count": 2,
     "metadata": {},
     "output_type": "execute_result"
    }
   ],
   "source": [
    "turnovers = pd.read_csv('/Users/iansheridan/Desktop/UCD/Turnovers1.csv')\n",
    "turnovers.head()"
   ]
  },
  {
   "cell_type": "code",
   "execution_count": 3,
   "metadata": {},
   "outputs": [
    {
     "data": {
      "text/html": [
       "<div>\n",
       "<style scoped>\n",
       "    .dataframe tbody tr th:only-of-type {\n",
       "        vertical-align: middle;\n",
       "    }\n",
       "\n",
       "    .dataframe tbody tr th {\n",
       "        vertical-align: top;\n",
       "    }\n",
       "\n",
       "    .dataframe thead th {\n",
       "        text-align: right;\n",
       "    }\n",
       "</style>\n",
       "<table border=\"1\" class=\"dataframe\">\n",
       "  <thead>\n",
       "    <tr style=\"text-align: right;\">\n",
       "      <th></th>\n",
       "      <th>iD MATCH</th>\n",
       "      <th>DATE</th>\n",
       "      <th>DOMICILE</th>\n",
       "      <th>EXTERIEUR</th>\n",
       "      <th>JOUEUR</th>\n",
       "      <th>POSTE</th>\n",
       "      <th>EQUIPE</th>\n",
       "      <th>ADV</th>\n",
       "      <th>TYPE TURNOVER CONCEDE</th>\n",
       "      <th>Field Area</th>\n",
       "      <th>Field L-R</th>\n",
       "    </tr>\n",
       "  </thead>\n",
       "  <tbody>\n",
       "    <tr>\n",
       "      <th>0</th>\n",
       "      <td>475</td>\n",
       "      <td>12/02/2021</td>\n",
       "      <td>USAP</td>\n",
       "      <td>USC</td>\n",
       "      <td>Quentin Etienne</td>\n",
       "      <td>ARRIERE</td>\n",
       "      <td>USAP</td>\n",
       "      <td>USC</td>\n",
       "      <td>Dropped Ball Unforced</td>\n",
       "      <td>22 - 50</td>\n",
       "      <td>L</td>\n",
       "    </tr>\n",
       "    <tr>\n",
       "      <th>1</th>\n",
       "      <td>475</td>\n",
       "      <td>12/02/2021</td>\n",
       "      <td>USAP</td>\n",
       "      <td>USC</td>\n",
       "      <td>Julien Facundo</td>\n",
       "      <td>PILIER</td>\n",
       "      <td>USC</td>\n",
       "      <td>USAP</td>\n",
       "      <td>Dropped Ball Unforced</td>\n",
       "      <td>50 - 22</td>\n",
       "      <td>R</td>\n",
       "    </tr>\n",
       "    <tr>\n",
       "      <th>2</th>\n",
       "      <td>475</td>\n",
       "      <td>12/02/2021</td>\n",
       "      <td>USAP</td>\n",
       "      <td>USC</td>\n",
       "      <td>Christiaan van der Merwe</td>\n",
       "      <td>SECONDE LIGNE</td>\n",
       "      <td>USC</td>\n",
       "      <td>USAP</td>\n",
       "      <td>Carried Into Touch</td>\n",
       "      <td>22 - GL</td>\n",
       "      <td>R</td>\n",
       "    </tr>\n",
       "    <tr>\n",
       "      <th>3</th>\n",
       "      <td>475</td>\n",
       "      <td>12/02/2021</td>\n",
       "      <td>USAP</td>\n",
       "      <td>USC</td>\n",
       "      <td>Rynard Landman</td>\n",
       "      <td>SECONDE LIGNE</td>\n",
       "      <td>USC</td>\n",
       "      <td>USAP</td>\n",
       "      <td>Dropped Ball Unforced</td>\n",
       "      <td>50 - 22</td>\n",
       "      <td>CL</td>\n",
       "    </tr>\n",
       "    <tr>\n",
       "      <th>4</th>\n",
       "      <td>475</td>\n",
       "      <td>12/02/2021</td>\n",
       "      <td>USAP</td>\n",
       "      <td>USC</td>\n",
       "      <td>Darrell Dyer</td>\n",
       "      <td>TROISIEME LIGNE AILE</td>\n",
       "      <td>USC</td>\n",
       "      <td>USAP</td>\n",
       "      <td>Dropped Ball Unforced</td>\n",
       "      <td>22 - 50</td>\n",
       "      <td>C</td>\n",
       "    </tr>\n",
       "  </tbody>\n",
       "</table>\n",
       "</div>"
      ],
      "text/plain": [
       "   iD MATCH        DATE DOMICILE EXTERIEUR                    JOUEUR  \\\n",
       "0       475  12/02/2021     USAP       USC           Quentin Etienne   \n",
       "1       475  12/02/2021     USAP       USC            Julien Facundo   \n",
       "2       475  12/02/2021     USAP       USC  Christiaan van der Merwe   \n",
       "3       475  12/02/2021     USAP       USC            Rynard Landman   \n",
       "4       475  12/02/2021     USAP       USC              Darrell Dyer   \n",
       "\n",
       "                  POSTE EQUIPE   ADV  TYPE TURNOVER CONCEDE Field Area  \\\n",
       "0               ARRIERE   USAP   USC  Dropped Ball Unforced    22 - 50   \n",
       "1                PILIER    USC  USAP  Dropped Ball Unforced    50 - 22   \n",
       "2         SECONDE LIGNE    USC  USAP     Carried Into Touch    22 - GL   \n",
       "3         SECONDE LIGNE    USC  USAP  Dropped Ball Unforced    50 - 22   \n",
       "4  TROISIEME LIGNE AILE    USC  USAP  Dropped Ball Unforced    22 - 50   \n",
       "\n",
       "  Field L-R  \n",
       "0         L  \n",
       "1         R  \n",
       "2         R  \n",
       "3        CL  \n",
       "4         C  "
      ]
     },
     "execution_count": 3,
     "metadata": {},
     "output_type": "execute_result"
    }
   ],
   "source": [
    "## Slice the Dataset to only include relevant data\n",
    "turnover = turnovers[['iD MATCH','DATE','DOMICILE','EXTERIEUR','JOUEUR','POSTE','EQUIPE','ADV','TYPE TURNOVER CONCEDE','Field Area','Field L-R']]\n",
    "turnover.head()"
   ]
  },
  {
   "cell_type": "code",
   "execution_count": 4,
   "metadata": {},
   "outputs": [
    {
     "data": {
      "text/html": [
       "<div>\n",
       "<style scoped>\n",
       "    .dataframe tbody tr th:only-of-type {\n",
       "        vertical-align: middle;\n",
       "    }\n",
       "\n",
       "    .dataframe tbody tr th {\n",
       "        vertical-align: top;\n",
       "    }\n",
       "\n",
       "    .dataframe thead th {\n",
       "        text-align: right;\n",
       "    }\n",
       "</style>\n",
       "<table border=\"1\" class=\"dataframe\">\n",
       "  <thead>\n",
       "    <tr style=\"text-align: right;\">\n",
       "      <th></th>\n",
       "      <th>DATE</th>\n",
       "      <th>DOMICILE</th>\n",
       "      <th>EXTERIEUR</th>\n",
       "      <th>JOUEUR</th>\n",
       "      <th>POSTE</th>\n",
       "      <th>EQUIPE</th>\n",
       "      <th>ADV</th>\n",
       "      <th>TYPE TURNOVER CONCEDE</th>\n",
       "      <th>Field Area</th>\n",
       "      <th>Field L-R</th>\n",
       "    </tr>\n",
       "    <tr>\n",
       "      <th>iD MATCH</th>\n",
       "      <th></th>\n",
       "      <th></th>\n",
       "      <th></th>\n",
       "      <th></th>\n",
       "      <th></th>\n",
       "      <th></th>\n",
       "      <th></th>\n",
       "      <th></th>\n",
       "      <th></th>\n",
       "      <th></th>\n",
       "    </tr>\n",
       "  </thead>\n",
       "  <tbody>\n",
       "    <tr>\n",
       "      <th>475</th>\n",
       "      <td>12/02/2021</td>\n",
       "      <td>USAP</td>\n",
       "      <td>USC</td>\n",
       "      <td>Quentin Etienne</td>\n",
       "      <td>ARRIERE</td>\n",
       "      <td>USAP</td>\n",
       "      <td>USC</td>\n",
       "      <td>Dropped Ball Unforced</td>\n",
       "      <td>22 - 50</td>\n",
       "      <td>L</td>\n",
       "    </tr>\n",
       "    <tr>\n",
       "      <th>475</th>\n",
       "      <td>12/02/2021</td>\n",
       "      <td>USAP</td>\n",
       "      <td>USC</td>\n",
       "      <td>Julien Facundo</td>\n",
       "      <td>PILIER</td>\n",
       "      <td>USC</td>\n",
       "      <td>USAP</td>\n",
       "      <td>Dropped Ball Unforced</td>\n",
       "      <td>50 - 22</td>\n",
       "      <td>R</td>\n",
       "    </tr>\n",
       "    <tr>\n",
       "      <th>475</th>\n",
       "      <td>12/02/2021</td>\n",
       "      <td>USAP</td>\n",
       "      <td>USC</td>\n",
       "      <td>Christiaan van der Merwe</td>\n",
       "      <td>SECONDE LIGNE</td>\n",
       "      <td>USC</td>\n",
       "      <td>USAP</td>\n",
       "      <td>Carried Into Touch</td>\n",
       "      <td>22 - GL</td>\n",
       "      <td>R</td>\n",
       "    </tr>\n",
       "    <tr>\n",
       "      <th>475</th>\n",
       "      <td>12/02/2021</td>\n",
       "      <td>USAP</td>\n",
       "      <td>USC</td>\n",
       "      <td>Rynard Landman</td>\n",
       "      <td>SECONDE LIGNE</td>\n",
       "      <td>USC</td>\n",
       "      <td>USAP</td>\n",
       "      <td>Dropped Ball Unforced</td>\n",
       "      <td>50 - 22</td>\n",
       "      <td>CL</td>\n",
       "    </tr>\n",
       "    <tr>\n",
       "      <th>475</th>\n",
       "      <td>12/02/2021</td>\n",
       "      <td>USAP</td>\n",
       "      <td>USC</td>\n",
       "      <td>Darrell Dyer</td>\n",
       "      <td>TROISIEME LIGNE AILE</td>\n",
       "      <td>USC</td>\n",
       "      <td>USAP</td>\n",
       "      <td>Dropped Ball Unforced</td>\n",
       "      <td>22 - 50</td>\n",
       "      <td>C</td>\n",
       "    </tr>\n",
       "    <tr>\n",
       "      <th>...</th>\n",
       "      <td>...</td>\n",
       "      <td>...</td>\n",
       "      <td>...</td>\n",
       "      <td>...</td>\n",
       "      <td>...</td>\n",
       "      <td>...</td>\n",
       "      <td>...</td>\n",
       "      <td>...</td>\n",
       "      <td>...</td>\n",
       "      <td>...</td>\n",
       "    </tr>\n",
       "    <tr>\n",
       "      <th>354</th>\n",
       "      <td>25/09/2020</td>\n",
       "      <td>OYO</td>\n",
       "      <td>AIX</td>\n",
       "      <td>Tony Ensor</td>\n",
       "      <td>ARRIERE</td>\n",
       "      <td>OYO</td>\n",
       "      <td>AIX</td>\n",
       "      <td>Dropped Ball Forced</td>\n",
       "      <td>50 - 22</td>\n",
       "      <td>CL</td>\n",
       "    </tr>\n",
       "    <tr>\n",
       "      <th>354</th>\n",
       "      <td>25/09/2020</td>\n",
       "      <td>OYO</td>\n",
       "      <td>AIX</td>\n",
       "      <td>Tony Ensor</td>\n",
       "      <td>ARRIERE</td>\n",
       "      <td>OYO</td>\n",
       "      <td>AIX</td>\n",
       "      <td>Dropped Ball Unforced</td>\n",
       "      <td>22 - 50</td>\n",
       "      <td>CR</td>\n",
       "    </tr>\n",
       "    <tr>\n",
       "      <th>354</th>\n",
       "      <td>25/09/2020</td>\n",
       "      <td>OYO</td>\n",
       "      <td>AIX</td>\n",
       "      <td>Tony Ensor</td>\n",
       "      <td>ARRIERE</td>\n",
       "      <td>OYO</td>\n",
       "      <td>AIX</td>\n",
       "      <td>Dropped Ball Unforced</td>\n",
       "      <td>22 - 50</td>\n",
       "      <td>R</td>\n",
       "    </tr>\n",
       "    <tr>\n",
       "      <th>354</th>\n",
       "      <td>25/09/2020</td>\n",
       "      <td>OYO</td>\n",
       "      <td>AIX</td>\n",
       "      <td>Tony Ensor</td>\n",
       "      <td>ARRIERE</td>\n",
       "      <td>OYO</td>\n",
       "      <td>AIX</td>\n",
       "      <td>Dropped Ball Unforced</td>\n",
       "      <td>50 - 22</td>\n",
       "      <td>C</td>\n",
       "    </tr>\n",
       "    <tr>\n",
       "      <th>354</th>\n",
       "      <td>25/09/2020</td>\n",
       "      <td>OYO</td>\n",
       "      <td>AIX</td>\n",
       "      <td>Frans van Wyk</td>\n",
       "      <td>PILIER</td>\n",
       "      <td>OYO</td>\n",
       "      <td>AIX</td>\n",
       "      <td>Lost at Breakdown</td>\n",
       "      <td>22 - 50</td>\n",
       "      <td>CR</td>\n",
       "    </tr>\n",
       "  </tbody>\n",
       "</table>\n",
       "<p>4405 rows × 10 columns</p>\n",
       "</div>"
      ],
      "text/plain": [
       "                DATE DOMICILE EXTERIEUR                    JOUEUR  \\\n",
       "iD MATCH                                                            \n",
       "475       12/02/2021     USAP       USC           Quentin Etienne   \n",
       "475       12/02/2021     USAP       USC            Julien Facundo   \n",
       "475       12/02/2021     USAP       USC  Christiaan van der Merwe   \n",
       "475       12/02/2021     USAP       USC            Rynard Landman   \n",
       "475       12/02/2021     USAP       USC              Darrell Dyer   \n",
       "...              ...      ...       ...                       ...   \n",
       "354       25/09/2020      OYO       AIX                Tony Ensor   \n",
       "354       25/09/2020      OYO       AIX                Tony Ensor   \n",
       "354       25/09/2020      OYO       AIX                Tony Ensor   \n",
       "354       25/09/2020      OYO       AIX                Tony Ensor   \n",
       "354       25/09/2020      OYO       AIX             Frans van Wyk   \n",
       "\n",
       "                         POSTE EQUIPE   ADV  TYPE TURNOVER CONCEDE Field Area  \\\n",
       "iD MATCH                                                                        \n",
       "475                    ARRIERE   USAP   USC  Dropped Ball Unforced    22 - 50   \n",
       "475                     PILIER    USC  USAP  Dropped Ball Unforced    50 - 22   \n",
       "475              SECONDE LIGNE    USC  USAP     Carried Into Touch    22 - GL   \n",
       "475              SECONDE LIGNE    USC  USAP  Dropped Ball Unforced    50 - 22   \n",
       "475       TROISIEME LIGNE AILE    USC  USAP  Dropped Ball Unforced    22 - 50   \n",
       "...                        ...    ...   ...                    ...        ...   \n",
       "354                    ARRIERE    OYO   AIX    Dropped Ball Forced    50 - 22   \n",
       "354                    ARRIERE    OYO   AIX  Dropped Ball Unforced    22 - 50   \n",
       "354                    ARRIERE    OYO   AIX  Dropped Ball Unforced    22 - 50   \n",
       "354                    ARRIERE    OYO   AIX  Dropped Ball Unforced    50 - 22   \n",
       "354                     PILIER    OYO   AIX      Lost at Breakdown    22 - 50   \n",
       "\n",
       "         Field L-R  \n",
       "iD MATCH            \n",
       "475              L  \n",
       "475              R  \n",
       "475              R  \n",
       "475             CL  \n",
       "475              C  \n",
       "...            ...  \n",
       "354             CL  \n",
       "354             CR  \n",
       "354              R  \n",
       "354              C  \n",
       "354             CR  \n",
       "\n",
       "[4405 rows x 10 columns]"
      ]
     },
     "execution_count": 4,
     "metadata": {},
     "output_type": "execute_result"
    }
   ],
   "source": [
    "turnover.set_index('iD MATCH')"
   ]
  },
  {
   "cell_type": "code",
   "execution_count": 5,
   "metadata": {},
   "outputs": [
    {
     "data": {
      "text/plain": [
       "<bound method NDFrame.head of       iD MATCH        DATE DOMICILE EXTERIEUR              JOUEUR  \\\n",
       "603        325  04/09/2020     SAXV       AIX           Ledua Mau   \n",
       "615        325  04/09/2020     SAXV       AIX      Hikairo Forbes   \n",
       "616        325  04/09/2020     SAXV       AIX    Jerome Mondoulet   \n",
       "617        325  04/09/2020     SAXV       AIX        Tyrone Viiga   \n",
       "604        325  04/09/2020     SAXV       AIX  Shalva Sutiashvili   \n",
       "...        ...         ...      ...       ...                 ...   \n",
       "3067       508  11/03/2021     USAP       AIX  Jean-Bernard Pujol   \n",
       "3068       508  11/03/2021     USAP       AIX    Julien Ledevedec   \n",
       "3069       508  11/03/2021     USAP       AIX       Charles Malet   \n",
       "3046       508  11/03/2021     USAP       AIX     Quentin Walcker   \n",
       "3060       508  11/03/2021     USAP       AIX      George Tilsley   \n",
       "\n",
       "                       POSTE EQUIPE   ADV  TYPE TURNOVER CONCEDE Field Area  \\\n",
       "603                   CENTRE   SAXV   AIX  Dropped Ball Unforced    22 - 50   \n",
       "615                TALONNEUR    AIX  SAXV     Carried Into Touch    50 - 22   \n",
       "616            SECONDE LIGNE    AIX  SAXV               Bad Pass    GL - 22   \n",
       "617   TROISIEME LIGNE CENTRE    AIX  SAXV  Dropped Ball Unforced    22 - GL   \n",
       "604            SECONDE LIGNE   SAXV   AIX      Lost at Breakdown    22 - 50   \n",
       "...                      ...    ...   ...                    ...        ...   \n",
       "3067                  AILIER   USAP   AIX  Dropped Ball Unforced    50 - 22   \n",
       "3068           SECONDE LIGNE    AIX  USAP  Dropped Ball Unforced    50 - 22   \n",
       "3069  TROISIEME LIGNE CENTRE    AIX  USAP            Bad Offload    50 - 22   \n",
       "3046                  PILIER   USAP   AIX  Dropped Ball Unforced    22 - 50   \n",
       "3060                  CENTRE   USAP   AIX  Dropped Ball Unforced    22 - GL   \n",
       "\n",
       "     Field L-R  \n",
       "603          R  \n",
       "615          L  \n",
       "616          L  \n",
       "617         CL  \n",
       "604          L  \n",
       "...        ...  \n",
       "3067         L  \n",
       "3068         L  \n",
       "3069        CR  \n",
       "3046        CR  \n",
       "3060         R  \n",
       "\n",
       "[4405 rows x 11 columns]>"
      ]
     },
     "execution_count": 5,
     "metadata": {},
     "output_type": "execute_result"
    }
   ],
   "source": [
    "## Sort the dataset by match id so that they are in order.\n",
    "turnover = turnover.sort_values('iD MATCH')\n",
    "turnover.head"
   ]
  },
  {
   "cell_type": "code",
   "execution_count": 6,
   "metadata": {},
   "outputs": [
    {
     "data": {
      "text/plain": [
       "iD MATCH                 0.000000\n",
       "DATE                     0.000000\n",
       "DOMICILE                 0.002270\n",
       "EXTERIEUR                0.000681\n",
       "JOUEUR                   0.003178\n",
       "POSTE                    0.012486\n",
       "EQUIPE                   0.000454\n",
       "ADV                      0.000000\n",
       "TYPE TURNOVER CONCEDE    0.002497\n",
       "Field Area               0.000908\n",
       "Field L-R                0.000000\n",
       "dtype: float64"
      ]
     },
     "execution_count": 6,
     "metadata": {},
     "output_type": "execute_result"
    }
   ],
   "source": [
    "#Check nulls\n",
    "turnover.isnull().sum()/len(turnover)"
   ]
  },
  {
   "cell_type": "code",
   "execution_count": 7,
   "metadata": {},
   "outputs": [
    {
     "data": {
      "text/plain": [
       "iD MATCH                 0.000000\n",
       "DATE                     0.000000\n",
       "DOMICILE                 0.227015\n",
       "EXTERIEUR                0.068104\n",
       "JOUEUR                   0.317821\n",
       "POSTE                    1.248581\n",
       "EQUIPE                   0.045403\n",
       "ADV                      0.000000\n",
       "TYPE TURNOVER CONCEDE    0.249716\n",
       "Field Area               0.090806\n",
       "Field L-R                0.000000\n",
       "dtype: float64"
      ]
     },
     "execution_count": 7,
     "metadata": {},
     "output_type": "execute_result"
    }
   ],
   "source": [
    "#Check percentage of nulls\n",
    "turnover.isnull().sum()/len(turnover)*100"
   ]
  },
  {
   "cell_type": "code",
   "execution_count": 8,
   "metadata": {},
   "outputs": [
    {
     "data": {
      "text/plain": [
       "(4405, 11)"
      ]
     },
     "execution_count": 8,
     "metadata": {},
     "output_type": "execute_result"
    }
   ],
   "source": [
    "turnover.shape"
   ]
  },
  {
   "cell_type": "code",
   "execution_count": 9,
   "metadata": {},
   "outputs": [],
   "source": [
    "turnover = turnover.dropna()"
   ]
  },
  {
   "cell_type": "code",
   "execution_count": 10,
   "metadata": {},
   "outputs": [
    {
     "data": {
      "text/plain": [
       "(4312, 11)"
      ]
     },
     "execution_count": 10,
     "metadata": {},
     "output_type": "execute_result"
    }
   ],
   "source": [
    "turnover.shape"
   ]
  },
  {
   "cell_type": "code",
   "execution_count": 11,
   "metadata": {},
   "outputs": [
    {
     "data": {
      "text/html": [
       "<div>\n",
       "<style scoped>\n",
       "    .dataframe tbody tr th:only-of-type {\n",
       "        vertical-align: middle;\n",
       "    }\n",
       "\n",
       "    .dataframe tbody tr th {\n",
       "        vertical-align: top;\n",
       "    }\n",
       "\n",
       "    .dataframe thead th {\n",
       "        text-align: right;\n",
       "    }\n",
       "</style>\n",
       "<table border=\"1\" class=\"dataframe\">\n",
       "  <thead>\n",
       "    <tr style=\"text-align: right;\">\n",
       "      <th></th>\n",
       "      <th>iD MATCH</th>\n",
       "      <th>DATE</th>\n",
       "      <th>DOMICILE</th>\n",
       "      <th>EXTERIEUR</th>\n",
       "      <th>JOUEUR</th>\n",
       "      <th>POSTE</th>\n",
       "      <th>EQUIPE</th>\n",
       "      <th>ADV</th>\n",
       "      <th>TYPE TURNOVER CONCEDE</th>\n",
       "      <th>Field Area</th>\n",
       "      <th>Field L-R</th>\n",
       "    </tr>\n",
       "  </thead>\n",
       "  <tbody>\n",
       "    <tr>\n",
       "      <th>603</th>\n",
       "      <td>325</td>\n",
       "      <td>04/09/2020</td>\n",
       "      <td>SAXV</td>\n",
       "      <td>AIX</td>\n",
       "      <td>Ledua Mau</td>\n",
       "      <td>CENTRE</td>\n",
       "      <td>SAXV</td>\n",
       "      <td>AIX</td>\n",
       "      <td>Dropped Ball Unforced</td>\n",
       "      <td>22 - 50</td>\n",
       "      <td>R</td>\n",
       "    </tr>\n",
       "    <tr>\n",
       "      <th>615</th>\n",
       "      <td>325</td>\n",
       "      <td>04/09/2020</td>\n",
       "      <td>SAXV</td>\n",
       "      <td>AIX</td>\n",
       "      <td>Hikairo Forbes</td>\n",
       "      <td>TALONNEUR</td>\n",
       "      <td>AIX</td>\n",
       "      <td>SAXV</td>\n",
       "      <td>Carried Into Touch</td>\n",
       "      <td>50 - 22</td>\n",
       "      <td>L</td>\n",
       "    </tr>\n",
       "    <tr>\n",
       "      <th>616</th>\n",
       "      <td>325</td>\n",
       "      <td>04/09/2020</td>\n",
       "      <td>SAXV</td>\n",
       "      <td>AIX</td>\n",
       "      <td>Jerome Mondoulet</td>\n",
       "      <td>SECONDE LIGNE</td>\n",
       "      <td>AIX</td>\n",
       "      <td>SAXV</td>\n",
       "      <td>Bad Pass</td>\n",
       "      <td>GL - 22</td>\n",
       "      <td>L</td>\n",
       "    </tr>\n",
       "    <tr>\n",
       "      <th>617</th>\n",
       "      <td>325</td>\n",
       "      <td>04/09/2020</td>\n",
       "      <td>SAXV</td>\n",
       "      <td>AIX</td>\n",
       "      <td>Tyrone Viiga</td>\n",
       "      <td>TROISIEME LIGNE CENTRE</td>\n",
       "      <td>AIX</td>\n",
       "      <td>SAXV</td>\n",
       "      <td>Dropped Ball Unforced</td>\n",
       "      <td>22 - GL</td>\n",
       "      <td>CL</td>\n",
       "    </tr>\n",
       "    <tr>\n",
       "      <th>604</th>\n",
       "      <td>325</td>\n",
       "      <td>04/09/2020</td>\n",
       "      <td>SAXV</td>\n",
       "      <td>AIX</td>\n",
       "      <td>Shalva Sutiashvili</td>\n",
       "      <td>SECONDE LIGNE</td>\n",
       "      <td>SAXV</td>\n",
       "      <td>AIX</td>\n",
       "      <td>Lost at Breakdown</td>\n",
       "      <td>22 - 50</td>\n",
       "      <td>L</td>\n",
       "    </tr>\n",
       "  </tbody>\n",
       "</table>\n",
       "</div>"
      ],
      "text/plain": [
       "     iD MATCH        DATE DOMICILE EXTERIEUR              JOUEUR  \\\n",
       "603       325  04/09/2020     SAXV       AIX           Ledua Mau   \n",
       "615       325  04/09/2020     SAXV       AIX      Hikairo Forbes   \n",
       "616       325  04/09/2020     SAXV       AIX    Jerome Mondoulet   \n",
       "617       325  04/09/2020     SAXV       AIX        Tyrone Viiga   \n",
       "604       325  04/09/2020     SAXV       AIX  Shalva Sutiashvili   \n",
       "\n",
       "                      POSTE EQUIPE   ADV  TYPE TURNOVER CONCEDE Field Area  \\\n",
       "603                  CENTRE   SAXV   AIX  Dropped Ball Unforced    22 - 50   \n",
       "615               TALONNEUR    AIX  SAXV     Carried Into Touch    50 - 22   \n",
       "616           SECONDE LIGNE    AIX  SAXV               Bad Pass    GL - 22   \n",
       "617  TROISIEME LIGNE CENTRE    AIX  SAXV  Dropped Ball Unforced    22 - GL   \n",
       "604           SECONDE LIGNE   SAXV   AIX      Lost at Breakdown    22 - 50   \n",
       "\n",
       "    Field L-R  \n",
       "603         R  \n",
       "615         L  \n",
       "616         L  \n",
       "617        CL  \n",
       "604         L  "
      ]
     },
     "execution_count": 11,
     "metadata": {},
     "output_type": "execute_result"
    }
   ],
   "source": [
    "turnover.head()"
   ]
  },
  {
   "cell_type": "code",
   "execution_count": 12,
   "metadata": {},
   "outputs": [
    {
     "data": {
      "text/html": [
       "<div>\n",
       "<style scoped>\n",
       "    .dataframe tbody tr th:only-of-type {\n",
       "        vertical-align: middle;\n",
       "    }\n",
       "\n",
       "    .dataframe tbody tr th {\n",
       "        vertical-align: top;\n",
       "    }\n",
       "\n",
       "    .dataframe thead th {\n",
       "        text-align: right;\n",
       "    }\n",
       "</style>\n",
       "<table border=\"1\" class=\"dataframe\">\n",
       "  <thead>\n",
       "    <tr style=\"text-align: right;\">\n",
       "      <th></th>\n",
       "      <th>DATE</th>\n",
       "      <th>DOMICILE</th>\n",
       "      <th>EXTERIEUR</th>\n",
       "      <th>JOUEUR</th>\n",
       "      <th>POSTE</th>\n",
       "      <th>EQUIPE</th>\n",
       "      <th>ADV</th>\n",
       "      <th>TYPE TURNOVER CONCEDE</th>\n",
       "      <th>Field Area</th>\n",
       "      <th>Field L-R</th>\n",
       "    </tr>\n",
       "    <tr>\n",
       "      <th>iD MATCH</th>\n",
       "      <th></th>\n",
       "      <th></th>\n",
       "      <th></th>\n",
       "      <th></th>\n",
       "      <th></th>\n",
       "      <th></th>\n",
       "      <th></th>\n",
       "      <th></th>\n",
       "      <th></th>\n",
       "      <th></th>\n",
       "    </tr>\n",
       "  </thead>\n",
       "  <tbody>\n",
       "    <tr>\n",
       "      <th>325</th>\n",
       "      <td>04/09/2020</td>\n",
       "      <td>SAXV</td>\n",
       "      <td>AIX</td>\n",
       "      <td>Ledua Mau</td>\n",
       "      <td>CENTRE</td>\n",
       "      <td>SAXV</td>\n",
       "      <td>AIX</td>\n",
       "      <td>Dropped Ball Unforced</td>\n",
       "      <td>22 - 50</td>\n",
       "      <td>R</td>\n",
       "    </tr>\n",
       "    <tr>\n",
       "      <th>325</th>\n",
       "      <td>04/09/2020</td>\n",
       "      <td>SAXV</td>\n",
       "      <td>AIX</td>\n",
       "      <td>Hikairo Forbes</td>\n",
       "      <td>TALONNEUR</td>\n",
       "      <td>AIX</td>\n",
       "      <td>SAXV</td>\n",
       "      <td>Carried Into Touch</td>\n",
       "      <td>50 - 22</td>\n",
       "      <td>L</td>\n",
       "    </tr>\n",
       "    <tr>\n",
       "      <th>325</th>\n",
       "      <td>04/09/2020</td>\n",
       "      <td>SAXV</td>\n",
       "      <td>AIX</td>\n",
       "      <td>Jerome Mondoulet</td>\n",
       "      <td>SECONDE LIGNE</td>\n",
       "      <td>AIX</td>\n",
       "      <td>SAXV</td>\n",
       "      <td>Bad Pass</td>\n",
       "      <td>GL - 22</td>\n",
       "      <td>L</td>\n",
       "    </tr>\n",
       "    <tr>\n",
       "      <th>325</th>\n",
       "      <td>04/09/2020</td>\n",
       "      <td>SAXV</td>\n",
       "      <td>AIX</td>\n",
       "      <td>Tyrone Viiga</td>\n",
       "      <td>TROISIEME LIGNE CENTRE</td>\n",
       "      <td>AIX</td>\n",
       "      <td>SAXV</td>\n",
       "      <td>Dropped Ball Unforced</td>\n",
       "      <td>22 - GL</td>\n",
       "      <td>CL</td>\n",
       "    </tr>\n",
       "    <tr>\n",
       "      <th>325</th>\n",
       "      <td>04/09/2020</td>\n",
       "      <td>SAXV</td>\n",
       "      <td>AIX</td>\n",
       "      <td>Shalva Sutiashvili</td>\n",
       "      <td>SECONDE LIGNE</td>\n",
       "      <td>SAXV</td>\n",
       "      <td>AIX</td>\n",
       "      <td>Lost at Breakdown</td>\n",
       "      <td>22 - 50</td>\n",
       "      <td>L</td>\n",
       "    </tr>\n",
       "  </tbody>\n",
       "</table>\n",
       "</div>"
      ],
      "text/plain": [
       "                DATE DOMICILE EXTERIEUR              JOUEUR  \\\n",
       "iD MATCH                                                      \n",
       "325       04/09/2020     SAXV       AIX           Ledua Mau   \n",
       "325       04/09/2020     SAXV       AIX      Hikairo Forbes   \n",
       "325       04/09/2020     SAXV       AIX    Jerome Mondoulet   \n",
       "325       04/09/2020     SAXV       AIX        Tyrone Viiga   \n",
       "325       04/09/2020     SAXV       AIX  Shalva Sutiashvili   \n",
       "\n",
       "                           POSTE EQUIPE   ADV  TYPE TURNOVER CONCEDE  \\\n",
       "iD MATCH                                                               \n",
       "325                       CENTRE   SAXV   AIX  Dropped Ball Unforced   \n",
       "325                    TALONNEUR    AIX  SAXV     Carried Into Touch   \n",
       "325                SECONDE LIGNE    AIX  SAXV               Bad Pass   \n",
       "325       TROISIEME LIGNE CENTRE    AIX  SAXV  Dropped Ball Unforced   \n",
       "325                SECONDE LIGNE   SAXV   AIX      Lost at Breakdown   \n",
       "\n",
       "         Field Area Field L-R  \n",
       "iD MATCH                       \n",
       "325         22 - 50         R  \n",
       "325         50 - 22         L  \n",
       "325         GL - 22         L  \n",
       "325         22 - GL        CL  \n",
       "325         22 - 50         L  "
      ]
     },
     "execution_count": 12,
     "metadata": {},
     "output_type": "execute_result"
    }
   ],
   "source": [
    "## Set the index to match id\n",
    "turnover_index = turnover.set_index('iD MATCH')\n",
    "turnover_index.head()"
   ]
  },
  {
   "cell_type": "code",
   "execution_count": 13,
   "metadata": {},
   "outputs": [
    {
     "name": "stdout",
     "output_type": "stream",
     "text": [
      "16\n"
     ]
    }
   ],
   "source": [
    "## Check the number of different turnovers contained in the dataset\n",
    "print(turnover_index['TYPE TURNOVER CONCEDE'].nunique())"
   ]
  },
  {
   "cell_type": "code",
   "execution_count": 14,
   "metadata": {},
   "outputs": [],
   "source": [
    "turnover = turnover_index"
   ]
  },
  {
   "cell_type": "code",
   "execution_count": 15,
   "metadata": {},
   "outputs": [
    {
     "data": {
      "text/html": [
       "<div>\n",
       "<style scoped>\n",
       "    .dataframe tbody tr th:only-of-type {\n",
       "        vertical-align: middle;\n",
       "    }\n",
       "\n",
       "    .dataframe tbody tr th {\n",
       "        vertical-align: top;\n",
       "    }\n",
       "\n",
       "    .dataframe thead th {\n",
       "        text-align: right;\n",
       "    }\n",
       "</style>\n",
       "<table border=\"1\" class=\"dataframe\">\n",
       "  <thead>\n",
       "    <tr style=\"text-align: right;\">\n",
       "      <th></th>\n",
       "      <th>DATE</th>\n",
       "      <th>DOMICILE</th>\n",
       "      <th>EXTERIEUR</th>\n",
       "      <th>JOUEUR</th>\n",
       "      <th>POSTE</th>\n",
       "      <th>EQUIPE</th>\n",
       "      <th>ADV</th>\n",
       "      <th>TYPE TURNOVER CONCEDE</th>\n",
       "      <th>Field Area</th>\n",
       "      <th>Field L-R</th>\n",
       "    </tr>\n",
       "    <tr>\n",
       "      <th>iD MATCH</th>\n",
       "      <th></th>\n",
       "      <th></th>\n",
       "      <th></th>\n",
       "      <th></th>\n",
       "      <th></th>\n",
       "      <th></th>\n",
       "      <th></th>\n",
       "      <th></th>\n",
       "      <th></th>\n",
       "      <th></th>\n",
       "    </tr>\n",
       "  </thead>\n",
       "  <tbody>\n",
       "    <tr>\n",
       "      <th>325</th>\n",
       "      <td>04/09/2020</td>\n",
       "      <td>SAXV</td>\n",
       "      <td>AIX</td>\n",
       "      <td>Ledua Mau</td>\n",
       "      <td>CENTRE</td>\n",
       "      <td>SAXV</td>\n",
       "      <td>AIX</td>\n",
       "      <td>Dropped Ball Unforced</td>\n",
       "      <td>22 - 50</td>\n",
       "      <td>R</td>\n",
       "    </tr>\n",
       "    <tr>\n",
       "      <th>325</th>\n",
       "      <td>04/09/2020</td>\n",
       "      <td>SAXV</td>\n",
       "      <td>AIX</td>\n",
       "      <td>Hikairo Forbes</td>\n",
       "      <td>TALONNEUR</td>\n",
       "      <td>AIX</td>\n",
       "      <td>SAXV</td>\n",
       "      <td>Carried Into Touch</td>\n",
       "      <td>50 - 22</td>\n",
       "      <td>L</td>\n",
       "    </tr>\n",
       "    <tr>\n",
       "      <th>325</th>\n",
       "      <td>04/09/2020</td>\n",
       "      <td>SAXV</td>\n",
       "      <td>AIX</td>\n",
       "      <td>Jerome Mondoulet</td>\n",
       "      <td>SECONDE LIGNE</td>\n",
       "      <td>AIX</td>\n",
       "      <td>SAXV</td>\n",
       "      <td>Bad Pass</td>\n",
       "      <td>GL - 22</td>\n",
       "      <td>L</td>\n",
       "    </tr>\n",
       "    <tr>\n",
       "      <th>325</th>\n",
       "      <td>04/09/2020</td>\n",
       "      <td>SAXV</td>\n",
       "      <td>AIX</td>\n",
       "      <td>Tyrone Viiga</td>\n",
       "      <td>TROISIEME LIGNE CENTRE</td>\n",
       "      <td>AIX</td>\n",
       "      <td>SAXV</td>\n",
       "      <td>Dropped Ball Unforced</td>\n",
       "      <td>22 - GL</td>\n",
       "      <td>CL</td>\n",
       "    </tr>\n",
       "    <tr>\n",
       "      <th>325</th>\n",
       "      <td>04/09/2020</td>\n",
       "      <td>SAXV</td>\n",
       "      <td>AIX</td>\n",
       "      <td>Shalva Sutiashvili</td>\n",
       "      <td>SECONDE LIGNE</td>\n",
       "      <td>SAXV</td>\n",
       "      <td>AIX</td>\n",
       "      <td>Lost at Breakdown</td>\n",
       "      <td>22 - 50</td>\n",
       "      <td>L</td>\n",
       "    </tr>\n",
       "  </tbody>\n",
       "</table>\n",
       "</div>"
      ],
      "text/plain": [
       "                DATE DOMICILE EXTERIEUR              JOUEUR  \\\n",
       "iD MATCH                                                      \n",
       "325       04/09/2020     SAXV       AIX           Ledua Mau   \n",
       "325       04/09/2020     SAXV       AIX      Hikairo Forbes   \n",
       "325       04/09/2020     SAXV       AIX    Jerome Mondoulet   \n",
       "325       04/09/2020     SAXV       AIX        Tyrone Viiga   \n",
       "325       04/09/2020     SAXV       AIX  Shalva Sutiashvili   \n",
       "\n",
       "                           POSTE EQUIPE   ADV  TYPE TURNOVER CONCEDE  \\\n",
       "iD MATCH                                                               \n",
       "325                       CENTRE   SAXV   AIX  Dropped Ball Unforced   \n",
       "325                    TALONNEUR    AIX  SAXV     Carried Into Touch   \n",
       "325                SECONDE LIGNE    AIX  SAXV               Bad Pass   \n",
       "325       TROISIEME LIGNE CENTRE    AIX  SAXV  Dropped Ball Unforced   \n",
       "325                SECONDE LIGNE   SAXV   AIX      Lost at Breakdown   \n",
       "\n",
       "         Field Area Field L-R  \n",
       "iD MATCH                       \n",
       "325         22 - 50         R  \n",
       "325         50 - 22         L  \n",
       "325         GL - 22         L  \n",
       "325         22 - GL        CL  \n",
       "325         22 - 50         L  "
      ]
     },
     "execution_count": 15,
     "metadata": {},
     "output_type": "execute_result"
    }
   ],
   "source": [
    "turnover.head()"
   ]
  },
  {
   "cell_type": "code",
   "execution_count": 16,
   "metadata": {},
   "outputs": [
    {
     "data": {
      "text/plain": [
       "Dropped Ball Unforced    1647\n",
       "Lost at Breakdown         703\n",
       "Dropped Ball Forced       692\n",
       "Carried Into Touch        350\n",
       "Forward Pass              226\n",
       "Bad Pass                  199\n",
       "Failure To Find Touch     151\n",
       "Bad Offload               122\n",
       "Accidental Knock On       108\n",
       "Attempted Intercept        34\n",
       "Accidental Offside         24\n",
       "Other                      23\n",
       "Carried Back in Goal       19\n",
       "Offside at Restart          6\n",
       "5 Second Rule               5\n",
       "Grounding                   3\n",
       "Name: TYPE TURNOVER CONCEDE, dtype: int64"
      ]
     },
     "execution_count": 16,
     "metadata": {},
     "output_type": "execute_result"
    }
   ],
   "source": [
    "## Analyse the number of each type of turnover and plot them\n",
    "turnover['TYPE TURNOVER CONCEDE'].value_counts()"
   ]
  },
  {
   "cell_type": "code",
   "execution_count": 17,
   "metadata": {},
   "outputs": [
    {
     "data": {
      "image/png": "[encoded data removed]",
      "text/plain": [
       "<Figure size 432x288 with 1 Axes>"
      ]
     },
     "metadata": {
      "needs_background": "light"
     },
     "output_type": "display_data"
    }
   ],
   "source": [
    "types = sns.countplot(x='TYPE TURNOVER CONCEDE', data=turnover, order=turnover['TYPE TURNOVER CONCEDE'].value_counts().index)\n",
    "for item in types.get_xticklabels():\n",
    "    item.set_rotation(90)"
   ]
  },
  {
   "cell_type": "code",
   "execution_count": 75,
   "metadata": {},
   "outputs": [],
   "source": [
    "## Identify what teams were committing the most amount of turnovers\n",
    "turnover['TYPE TURNOVER CONCEDE'].unique()\n",
    "unique=turnover['TYPE TURNOVER CONCEDE'].nunique()/turnover['TYPE TURNOVER CONCEDE'].count()"
   ]
  },
  {
   "cell_type": "code",
   "execution_count": 78,
   "metadata": {},
   "outputs": [
    {
     "data": {
      "image/png": "[encoded data removed]",
      "text/plain": [
       "<Figure size 432x288 with 1 Axes>"
      ]
     },
     "metadata": {
      "needs_background": "light"
     },
     "output_type": "display_data"
    }
   ],
   "source": [
    "teams = sns.countplot(x='EQUIPE', data=turnover, order=turnover['EQUIPE'].value_counts().index)\n",
    "for item in teams.get_xticklabels():\n",
    "    item.set_rotation(90)"
   ]
  },
  {
   "cell_type": "code",
   "execution_count": 79,
   "metadata": {},
   "outputs": [
    {
     "data": {
      "image/png": "[encoded data removed]",
      "text/plain": [
       "<Figure size 432x288 with 1 Axes>"
      ]
     },
     "metadata": {
      "needs_background": "light"
     },
     "output_type": "display_data"
    }
   ],
   "source": [
    "## Sort the teams alphabetically\n",
    "teams = sns.countplot(x='EQUIPE', data=turnover, order=sorted(turnover['EQUIPE'].value_counts().index))\n",
    "for item in teams.get_xticklabels():\n",
    "    item.set_rotation(90)"
   ]
  },
  {
   "cell_type": "code",
   "execution_count": 20,
   "metadata": {},
   "outputs": [],
   "source": [
    "## Analyse turnovers by position"
   ]
  },
  {
   "cell_type": "code",
   "execution_count": 21,
   "metadata": {},
   "outputs": [
    {
     "data": {
      "image/png": "[encoded data removed]",
      "text/plain": [
       "<Figure size 432x288 with 1 Axes>"
      ]
     },
     "metadata": {
      "needs_background": "light"
     },
     "output_type": "display_data"
    }
   ],
   "source": [
    "positions = sns.countplot(x='POSTE', data=turnover, order=turnover['POSTE'].value_counts().index)\n",
    "for item in positions.get_xticklabels():\n",
    "    item.set_rotation(90)"
   ]
  },
  {
   "cell_type": "code",
   "execution_count": null,
   "metadata": {},
   "outputs": [],
   "source": []
  },
  {
   "cell_type": "code",
   "execution_count": null,
   "metadata": {},
   "outputs": [],
   "source": []
  },
  {
   "cell_type": "code",
   "execution_count": 22,
   "metadata": {},
   "outputs": [
    {
     "data": {
      "text/plain": [
       "DATE                     object\n",
       "DOMICILE                 object\n",
       "EXTERIEUR                object\n",
       "JOUEUR                   object\n",
       "POSTE                    object\n",
       "EQUIPE                   object\n",
       "ADV                      object\n",
       "TYPE TURNOVER CONCEDE    object\n",
       "Field Area               object\n",
       "Field L-R                object\n",
       "dtype: object"
      ]
     },
     "execution_count": 22,
     "metadata": {},
     "output_type": "execute_result"
    }
   ],
   "source": [
    "turnover.dtypes"
   ]
  },
  {
   "cell_type": "code",
   "execution_count": 23,
   "metadata": {},
   "outputs": [
    {
     "name": "stdout",
     "output_type": "stream",
     "text": [
      "         EQUIPE   ADV  TYPE TURNOVER CONCEDE Field Area Field L-R\n",
      "iD MATCH                                                         \n",
      "325        SAXV   AIX  Dropped Ball Unforced    22 - 50         R\n",
      "325         AIX  SAXV     Carried Into Touch    50 - 22         L\n",
      "325         AIX  SAXV               Bad Pass    GL - 22         L\n",
      "325         AIX  SAXV  Dropped Ball Unforced    22 - GL        CL\n",
      "325        SAXV   AIX      Lost at Breakdown    22 - 50         L\n",
      "325        SAXV   AIX  Failure To Find Touch    GL - 22         R\n",
      "325        SAXV   AIX      Lost at Breakdown    50 - 22         C\n",
      "325        SAXV   AIX    Dropped Ball Forced    22 - GL         L\n",
      "325         AIX  SAXV  Dropped Ball Unforced    50 - 22         L\n",
      "325        SAXV   AIX      Lost at Breakdown    50 - 22         L\n",
      "325         AIX  SAXV  Dropped Ball Unforced    50 - 22        CR\n",
      "325         AIX  SAXV  Dropped Ball Unforced    22 - 50         R\n",
      "325         AIX  SAXV           Forward Pass    50 - 22        CR\n",
      "325         AIX  SAXV            Bad Offload    50 - 22         L\n",
      "325         AIX  SAXV    Dropped Ball Forced    50 - 22        CR\n",
      "325         AIX  SAXV      Lost at Breakdown    50 - 22        CR\n",
      "325        SAXV   AIX  Dropped Ball Unforced    50 - 22        CL\n",
      "325        SAXV   AIX     Offside at Restart    50 - 22         C\n",
      "325         AIX  SAXV    Dropped Ball Forced    50 - 22         L\n"
     ]
    }
   ],
   "source": [
    "## Use slicing to analyse a specific game\n",
    "saxv = turnover.iloc[0:19, 5:]\n",
    "print(saxv)"
   ]
  },
  {
   "cell_type": "code",
   "execution_count": 69,
   "metadata": {},
   "outputs": [
    {
     "data": {
      "image/png": "[encoded data removed]",
      "text/plain": [
       "<Figure size 432x288 with 1 Axes>"
      ]
     },
     "metadata": {
      "needs_background": "light"
     },
     "output_type": "display_data"
    }
   ],
   "source": [
    "#Analysing game specific turnovers\n",
    "game_one = sns.countplot(data=saxv, y='TYPE TURNOVER CONCEDE', hue='EQUIPE')\n",
    "for item in game_one.get_xticklabels():\n",
    "    item.set_rotation(90)"
   ]
  },
  {
   "cell_type": "code",
   "execution_count": 113,
   "metadata": {},
   "outputs": [
    {
     "data": {
      "image/png": "[encoded data removed]",
      "text/plain": [
       "<Figure size 432x288 with 1 Axes>"
      ]
     },
     "metadata": {
      "needs_background": "light"
     },
     "output_type": "display_data"
    }
   ],
   "source": [
    "game_one = sns.countplot(data=saxv, y='Field Area', hue = 'EQUIPE')\n",
    "for item in game_one.get_xticklabels():\n",
    "    item.set_rotation(0)"
   ]
  },
  {
   "cell_type": "code",
   "execution_count": 122,
   "metadata": {},
   "outputs": [
    {
     "data": {
      "text/plain": [
       "<AxesSubplot:xlabel='Field L-R', ylabel='Field Area'>"
      ]
     },
     "execution_count": 122,
     "metadata": {},
     "output_type": "execute_result"
    },
    {
     "data": {
      "image/png": "[encoded data removed]",
      "text/plain": [
       "<Figure size 432x288 with 1 Axes>"
      ]
     },
     "metadata": {
      "needs_background": "light"
     },
     "output_type": "display_data"
    }
   ],
   "source": [
    "sns.scatterplot(data=saxv, y='Field Area', x='Field L-R', hue='EQUIPE', size='EQUIPE')"
   ]
  },
  {
   "cell_type": "code",
   "execution_count": null,
   "metadata": {},
   "outputs": [],
   "source": []
  },
  {
   "cell_type": "code",
   "execution_count": 84,
   "metadata": {},
   "outputs": [
    {
     "data": {
      "text/html": [
       "<div>\n",
       "<style scoped>\n",
       "    .dataframe tbody tr th:only-of-type {\n",
       "        vertical-align: middle;\n",
       "    }\n",
       "\n",
       "    .dataframe tbody tr th {\n",
       "        vertical-align: top;\n",
       "    }\n",
       "\n",
       "    .dataframe thead th {\n",
       "        text-align: right;\n",
       "    }\n",
       "</style>\n",
       "<table border=\"1\" class=\"dataframe\">\n",
       "  <thead>\n",
       "    <tr style=\"text-align: right;\">\n",
       "      <th></th>\n",
       "      <th>DATE</th>\n",
       "      <th>DOMICILE</th>\n",
       "      <th>EXTERIEUR</th>\n",
       "      <th>JOUEUR</th>\n",
       "      <th>POSTE</th>\n",
       "      <th>EQUIPE</th>\n",
       "      <th>ADV</th>\n",
       "      <th>TYPE TURNOVER CONCEDE</th>\n",
       "      <th>Field Area</th>\n",
       "      <th>Field L-R</th>\n",
       "    </tr>\n",
       "    <tr>\n",
       "      <th>iD MATCH</th>\n",
       "      <th></th>\n",
       "      <th></th>\n",
       "      <th></th>\n",
       "      <th></th>\n",
       "      <th></th>\n",
       "      <th></th>\n",
       "      <th></th>\n",
       "      <th></th>\n",
       "      <th></th>\n",
       "      <th></th>\n",
       "    </tr>\n",
       "  </thead>\n",
       "  <tbody>\n",
       "    <tr>\n",
       "      <th>326</th>\n",
       "      <td>03/09/2020</td>\n",
       "      <td>BO</td>\n",
       "      <td>USAP</td>\n",
       "      <td>Siua Halanukonuka</td>\n",
       "      <td>PILIER</td>\n",
       "      <td>USAP</td>\n",
       "      <td>BO</td>\n",
       "      <td>Dropped Ball Unforced</td>\n",
       "      <td>50 - 22</td>\n",
       "      <td>L</td>\n",
       "    </tr>\n",
       "    <tr>\n",
       "      <th>326</th>\n",
       "      <td>03/09/2020</td>\n",
       "      <td>BO</td>\n",
       "      <td>USAP</td>\n",
       "      <td>Pierre Lucas</td>\n",
       "      <td>CENTRE</td>\n",
       "      <td>USAP</td>\n",
       "      <td>BO</td>\n",
       "      <td>Lost at Breakdown</td>\n",
       "      <td>22 - GL</td>\n",
       "      <td>R</td>\n",
       "    </tr>\n",
       "    <tr>\n",
       "      <th>326</th>\n",
       "      <td>03/09/2020</td>\n",
       "      <td>BO</td>\n",
       "      <td>USAP</td>\n",
       "      <td>Sadek Deghmache</td>\n",
       "      <td>1/2 MELEE</td>\n",
       "      <td>USAP</td>\n",
       "      <td>BO</td>\n",
       "      <td>Dropped Ball Unforced</td>\n",
       "      <td>22 - 50</td>\n",
       "      <td>CL</td>\n",
       "    </tr>\n",
       "    <tr>\n",
       "      <th>326</th>\n",
       "      <td>03/09/2020</td>\n",
       "      <td>BO</td>\n",
       "      <td>USAP</td>\n",
       "      <td>Matteo Rodor</td>\n",
       "      <td>1/2 OUVERTURE</td>\n",
       "      <td>USAP</td>\n",
       "      <td>BO</td>\n",
       "      <td>Bad Offload</td>\n",
       "      <td>22 - GL</td>\n",
       "      <td>L</td>\n",
       "    </tr>\n",
       "    <tr>\n",
       "      <th>326</th>\n",
       "      <td>03/09/2020</td>\n",
       "      <td>BO</td>\n",
       "      <td>USAP</td>\n",
       "      <td>Lucas Dubois</td>\n",
       "      <td>AILIER</td>\n",
       "      <td>USAP</td>\n",
       "      <td>BO</td>\n",
       "      <td>Carried Into Touch</td>\n",
       "      <td>50 - 22</td>\n",
       "      <td>R</td>\n",
       "    </tr>\n",
       "  </tbody>\n",
       "</table>\n",
       "</div>"
      ],
      "text/plain": [
       "                DATE DOMICILE EXTERIEUR             JOUEUR          POSTE  \\\n",
       "iD MATCH                                                                    \n",
       "326       03/09/2020       BO      USAP  Siua Halanukonuka         PILIER   \n",
       "326       03/09/2020       BO      USAP       Pierre Lucas         CENTRE   \n",
       "326       03/09/2020       BO      USAP    Sadek Deghmache      1/2 MELEE   \n",
       "326       03/09/2020       BO      USAP       Matteo Rodor  1/2 OUVERTURE   \n",
       "326       03/09/2020       BO      USAP       Lucas Dubois         AILIER   \n",
       "\n",
       "         EQUIPE ADV  TYPE TURNOVER CONCEDE Field Area Field L-R  \n",
       "iD MATCH                                                         \n",
       "326        USAP  BO  Dropped Ball Unforced    50 - 22         L  \n",
       "326        USAP  BO      Lost at Breakdown    22 - GL         R  \n",
       "326        USAP  BO  Dropped Ball Unforced    22 - 50        CL  \n",
       "326        USAP  BO            Bad Offload    22 - GL         L  \n",
       "326        USAP  BO     Carried Into Touch    50 - 22         R  "
      ]
     },
     "execution_count": 84,
     "metadata": {},
     "output_type": "execute_result"
    }
   ],
   "source": [
    "#Identifying the league winners and analysing their performance\n",
    "usap = turnover[turnover['EQUIPE']=='USAP']\n",
    "usap.head()"
   ]
  },
  {
   "cell_type": "code",
   "execution_count": 68,
   "metadata": {},
   "outputs": [
    {
     "data": {
      "text/plain": [
       "([0, 1, 2, 3, 4, 5, 6, 7, 8, 9, 10, 11],\n",
       " [Text(0, 0, ''),\n",
       "  Text(0, 0, ''),\n",
       "  Text(0, 0, ''),\n",
       "  Text(0, 0, ''),\n",
       "  Text(0, 0, ''),\n",
       "  Text(0, 0, ''),\n",
       "  Text(0, 0, ''),\n",
       "  Text(0, 0, ''),\n",
       "  Text(0, 0, ''),\n",
       "  Text(0, 0, ''),\n",
       "  Text(0, 0, ''),\n",
       "  Text(0, 0, '')])"
      ]
     },
     "execution_count": 68,
     "metadata": {},
     "output_type": "execute_result"
    },
    {
     "data": {
      "image/png": "[encoded data removed]",
      "text/plain": [
       "<Figure size 432x288 with 1 Axes>"
      ]
     },
     "metadata": {
      "needs_background": "light"
     },
     "output_type": "display_data"
    }
   ],
   "source": [
    "## Using a histogram to identfy the types of turnover commited by the league champions\n",
    "hist = plt.hist(usap['TYPE TURNOVER CONCEDE'])\n",
    "plt.xticks(rotation=90)"
   ]
  },
  {
   "cell_type": "code",
   "execution_count": 26,
   "metadata": {},
   "outputs": [
    {
     "data": {
      "image/png": "[encoded data removed]",
      "text/plain": [
       "<Figure size 432x288 with 1 Axes>"
      ]
     },
     "metadata": {
      "needs_background": "light"
     },
     "output_type": "display_data"
    }
   ],
   "source": [
    "## Histogram was not easy to read there for plotting the turnovers in seaborn\n",
    "usap_types = sns.countplot(x='TYPE TURNOVER CONCEDE', data=usap, order=usap['TYPE TURNOVER CONCEDE'].value_counts().index)\n",
    "for item in usap_types.get_xticklabels():\n",
    "    item.set_rotation(90)"
   ]
  },
  {
   "cell_type": "code",
   "execution_count": null,
   "metadata": {},
   "outputs": [],
   "source": []
  },
  {
   "cell_type": "code",
   "execution_count": null,
   "metadata": {},
   "outputs": [],
   "source": []
  },
  {
   "cell_type": "code",
   "execution_count": null,
   "metadata": {},
   "outputs": [],
   "source": []
  },
  {
   "cell_type": "code",
   "execution_count": null,
   "metadata": {},
   "outputs": [],
   "source": []
  },
  {
   "cell_type": "code",
   "execution_count": 27,
   "metadata": {},
   "outputs": [
    {
     "data": {
      "image/png": "[encoded data removed]",
      "text/plain": [
       "<Figure size 432x288 with 2 Axes>"
      ]
     },
     "metadata": {
      "needs_background": "light"
     },
     "output_type": "display_data"
    }
   ],
   "source": [
    "## Using a heatmap to identify the areas on the pitch that most turnovers occur\n",
    "def get_heatmap(turnover, ax=None):\n",
    "    pivoted = pd.pivot_table(turnover, values=\"DATE\", index=[\"Field L-R\"], columns=[\"Field Area\"], aggfunc=len)\n",
    "    # Get the columns/indices in the right order\n",
    "    pivoted.columns = ['22 - GL', '50 - 22', '22 - 50', 'GL - 22']\n",
    "    pivoted = pivoted.reindex(['L', 'CL', 'C', 'CR', 'R'])\n",
    "    return sns.heatmap(pivoted.T, ax=ax)\n",
    "a = get_heatmap(turnover)"
   ]
  },
  {
   "cell_type": "code",
   "execution_count": null,
   "metadata": {},
   "outputs": [],
   "source": [
    "## Using heatmaps to identify the area on the pitch where each team commits a turnover"
   ]
  },
  {
   "cell_type": "code",
   "execution_count": 28,
   "metadata": {},
   "outputs": [
    {
     "data": {
      "image/png": "[encoded data removed]",
      "text/plain": [
       "<Figure size 1332x756 with 32 Axes>"
      ]
     },
     "metadata": {
      "needs_background": "light"
     },
     "output_type": "display_data"
    }
   ],
   "source": [
    "all_teams = turnover['EQUIPE'].unique()\n",
    "fig = plt.figure()\n",
    "fig.set_size_inches(18.5, 10.5)\n",
    "fig.subplots_adjust(hspace=0.4, wspace=0.4)\n",
    "for i, team in enumerate(all_teams):\n",
    "    ax = fig.add_subplot(4, 4, i+1)\n",
    "    ax.title.set_text(team)\n",
    "    get_heatmap(turnover[turnover['EQUIPE'] == team], ax=ax)"
   ]
  },
  {
   "cell_type": "code",
   "execution_count": null,
   "metadata": {},
   "outputs": [],
   "source": []
  },
  {
   "cell_type": "code",
   "execution_count": 29,
   "metadata": {},
   "outputs": [
    {
     "name": "stdout",
     "output_type": "stream",
     "text": [
      "Turnovers per home game: 11.647\n",
      "Turnovers per away game: 11.788\n"
     ]
    }
   ],
   "source": [
    "## Analysing turnovers while playing home v away\n",
    "def home_versus_away(turnover):\n",
    "    home = round(turnover[turnover['DOMICILE'] == turnover ['EQUIPE']].groupby('iD MATCH').count()['DATE'].mean(), 3)\n",
    "    print(f'Turnovers per home game: {home}')\n",
    "\n",
    "    away = round(turnover[turnover['DOMICILE'] != turnover ['EQUIPE']].groupby('iD MATCH').count()['DATE'].mean(), 3)\n",
    "    print(f'Turnovers per away game: {away}')\n",
    "\n",
    "home_versus_away(turnover)"
   ]
  },
  {
   "cell_type": "code",
   "execution_count": 30,
   "metadata": {},
   "outputs": [
    {
     "name": "stdout",
     "output_type": "stream",
     "text": [
      "AIX\n",
      "Turnovers per home game: 11.455\n",
      "Turnovers per away game: 12.75\n",
      "\n",
      "\n",
      "ASBH\n",
      "Turnovers per home game: 13.182\n",
      "Turnovers per away game: 9.583\n",
      "\n",
      "\n",
      "BO\n",
      "Turnovers per home game: 10.667\n",
      "Turnovers per away game: 12.182\n",
      "\n",
      "\n",
      "COL\n",
      "Turnovers per home game: 11.5\n",
      "Turnovers per away game: 10.818\n",
      "\n",
      "\n",
      "FCG\n",
      "Turnovers per home game: 11.545\n",
      "Turnovers per away game: 13.833\n",
      "\n",
      "\n",
      "MdM\n",
      "Turnovers per home game: 11.917\n",
      "Turnovers per away game: 10.846\n",
      "\n",
      "\n",
      "OYO\n",
      "Turnovers per home game: 12.364\n",
      "Turnovers per away game: 10.417\n",
      "\n",
      "\n",
      "ROU\n",
      "Turnovers per home game: 9.636\n",
      "Turnovers per away game: 9.5\n",
      "\n",
      "\n",
      "SA\n",
      "Turnovers per home game: 11.583\n",
      "Turnovers per away game: 13.091\n",
      "\n",
      "\n",
      "SAXV\n",
      "Turnovers per home game: 12.417\n",
      "Turnovers per away game: 11.636\n",
      "\n",
      "\n",
      "USAP\n",
      "Turnovers per home game: 14.0\n",
      "Turnovers per away game: 12.0\n",
      "\n",
      "\n",
      "USC\n",
      "Turnovers per home game: 11.25\n",
      "Turnovers per away game: 13.364\n",
      "\n",
      "\n",
      "USM\n",
      "Turnovers per home game: 11.667\n",
      "Turnovers per away game: 11.364\n",
      "\n",
      "\n",
      "USON\n",
      "Turnovers per home game: 13.091\n",
      "Turnovers per away game: 13.917\n",
      "\n",
      "\n",
      "VAN\n",
      "Turnovers per home game: 10.727\n",
      "Turnovers per away game: 9.857\n",
      "\n",
      "\n",
      "VRDR\n",
      "Turnovers per home game: 9.182\n",
      "Turnovers per away game: 10.083\n",
      "\n",
      "\n"
     ]
    }
   ],
   "source": [
    "all_teams = sorted(turnover['EQUIPE'].unique())\n",
    "for i, team in enumerate(all_teams):\n",
    "    print(team)\n",
    "    home_versus_away(turnover[turnover['EQUIPE'] == team])\n",
    "    print('\\n')"
   ]
  },
  {
   "cell_type": "code",
   "execution_count": null,
   "metadata": {},
   "outputs": [],
   "source": []
  },
  {
   "cell_type": "code",
   "execution_count": null,
   "metadata": {},
   "outputs": [],
   "source": []
  },
  {
   "cell_type": "code",
   "execution_count": null,
   "metadata": {},
   "outputs": [],
   "source": []
  },
  {
   "cell_type": "code",
   "execution_count": null,
   "metadata": {},
   "outputs": [],
   "source": []
  },
  {
   "cell_type": "code",
   "execution_count": null,
   "metadata": {},
   "outputs": [],
   "source": []
  },
  {
   "cell_type": "code",
   "execution_count": null,
   "metadata": {},
   "outputs": [],
   "source": []
  },
  {
   "cell_type": "code",
   "execution_count": null,
   "metadata": {},
   "outputs": [],
   "source": []
  }
 ],
 "metadata": {
  "kernelspec": {
   "display_name": "Python 3",
   "language": "python",
   "name": "python3"
  },
  "language_info": {
   "codemirror_mode": {
    "name": "ipython",
    "version": 3
   },
   "file_extension": ".py",
   "mimetype": "text/x-python",
   "name": "python",
   "nbconvert_exporter": "python",
   "pygments_lexer": "ipython3",
   "version": "3.8.5"
  }
 },
 "nbformat": 4,
 "nbformat_minor": 4
}
